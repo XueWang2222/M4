{
  "nbformat": 4,
  "nbformat_minor": 0,
  "metadata": {
    "colab": {
      "provenance": []
    },
    "kernelspec": {
      "name": "python3",
      "display_name": "Python 3"
    },
    "language_info": {
      "name": "python"
    }
  },
  "cells": [
    {
      "cell_type": "code",
      "source": [
        "from pyspark.sql import SparkSession"
      ],
      "metadata": {
        "id": "hP5Qfno8FmB1"
      },
      "execution_count": null,
      "outputs": []
    },
    {
      "cell_type": "code",
      "source": [
        "spark = SparkSession.builder \\\n",
        "    .appName(\"Create Hive Table from CSV\") \\\n",
        "    .config(\"spark.sql.warehouse.dir\", \"/user/hive/warehouse\") \\\n",
        "    .enableHiveSupport() \\\n",
        "    .getOrCreate()"
      ],
      "metadata": {
        "id": "cr6aG5KBFo6S"
      },
      "execution_count": null,
      "outputs": []
    },
    {
      "cell_type": "code",
      "source": [
        "csv_file_path = \"/content/BostonHousing.csv\""
      ],
      "metadata": {
        "id": "oKJBOAxfFs0p"
      },
      "execution_count": null,
      "outputs": []
    },
    {
      "cell_type": "code",
      "source": [
        "database_name = \"default\"\n",
        "table_name = \"bostonhousing\""
      ],
      "metadata": {
        "id": "tA4kWl7kGBmR"
      },
      "execution_count": null,
      "outputs": []
    },
    {
      "cell_type": "code",
      "source": [
        "df = spark.read.csv(csv_file_path, header=True, inferSchema=True)"
      ],
      "metadata": {
        "id": "rJemgPE6GFOx"
      },
      "execution_count": null,
      "outputs": []
    },
    {
      "cell_type": "code",
      "source": [
        "df.write.mode(\"overwrite\").saveAsTable(f\"{database_name}.{table_name}\")"
      ],
      "metadata": {
        "id": "3hEl5hNDGKg3"
      },
      "execution_count": null,
      "outputs": []
    },
    {
      "cell_type": "code",
      "source": [
        "print(f\"Table '{table_name}' successfully created in database '{database_name}'.\")"
      ],
      "metadata": {
        "colab": {
          "base_uri": "https://localhost:8080/"
        },
        "id": "n6PU4QO6GOfc",
        "outputId": "8d73b8c0-62fb-4ba4-cea1-9e7a45177b83"
      },
      "execution_count": null,
      "outputs": [
        {
          "output_type": "stream",
          "name": "stdout",
          "text": [
            "Table 'bostonhousing' successfully created in database 'default'.\n"
          ]
        }
      ]
    },
    {
      "cell_type": "code",
      "source": [
        "df_task1a = spark.sql(f\"SELECT * FROM {database_name}.{table_name} LIMIT 5\")\n",
        "print(\"Task 1a: First 5 rows of the dataset\")\n",
        "df_task1a.show()"
      ],
      "metadata": {
        "colab": {
          "base_uri": "https://localhost:8080/"
        },
        "id": "HhSvjYwKGQ5Y",
        "outputId": "d9a5e54a-e049-487b-ba5f-5651bfb6b2ff"
      },
      "execution_count": null,
      "outputs": [
        {
          "output_type": "stream",
          "name": "stdout",
          "text": [
            "Task 1a: First 5 rows of the dataset\n",
            "+-------+----+-----+----+-----+-----+----+------+---+---+-------+------+-----+----+\n",
            "|   crim|  zn|indus|chas|  nox|   rm| age|   dis|rad|tax|ptratio|     b|lstat|medv|\n",
            "+-------+----+-----+----+-----+-----+----+------+---+---+-------+------+-----+----+\n",
            "|0.00632|18.0| 2.31|   0|0.538|6.575|65.2|  4.09|  1|296|   15.3| 396.9| 4.98|24.0|\n",
            "|0.02731| 0.0| 7.07|   0|0.469|6.421|78.9|4.9671|  2|242|   17.8| 396.9| 9.14|21.6|\n",
            "|0.02729| 0.0| 7.07|   0|0.469|7.185|61.1|4.9671|  2|242|   17.8|392.83| 4.03|34.7|\n",
            "|0.03237| 0.0| 2.18|   0|0.458|6.998|45.8|6.0622|  3|222|   18.7|394.63| 2.94|33.4|\n",
            "|0.06905| 0.0| 2.18|   0|0.458|7.147|54.2|6.0622|  3|222|   18.7| 396.9| 5.33|36.2|\n",
            "+-------+----+-----+----+-----+-----+----+------+---+---+-------+------+-----+----+\n",
            "\n"
          ]
        }
      ]
    },
    {
      "cell_type": "code",
      "source": [
        "total_records = spark.sql(f\"SELECT COUNT(*) AS total_records FROM {database_name}.{table_name}\").collect()[0][\"total_records\"]\n",
        "print(\"\\nTask 1b: Total number of records in the dataset\")\n",
        "print(total_records)"
      ],
      "metadata": {
        "colab": {
          "base_uri": "https://localhost:8080/"
        },
        "id": "K-RRP_XaGYvH",
        "outputId": "2feea0a4-7993-4848-cf78-b1c211ddad38"
      },
      "execution_count": null,
      "outputs": [
        {
          "output_type": "stream",
          "name": "stdout",
          "text": [
            "\n",
            "Task 1b: Total number of records in the dataset\n",
            "506\n"
          ]
        }
      ]
    },
    {
      "cell_type": "code",
      "source": [
        "df_task2a = spark.sql(f\"\"\"\n",
        "    SELECT\n",
        "      AVG(medv) AS mean_medv,\n",
        "      STDDEV(medv) AS std_dev_medv,\n",
        "      MIN(medv) AS min_medv,\n",
        "      MAX(medv) AS max_medv\n",
        "    FROM {database_name}.{table_name}\n",
        "\"\"\")\n",
        "print(\"\\nTask 2a: Descriptive statistics for 'medv' column\")\n",
        "df_task2a.show()"
      ],
      "metadata": {
        "colab": {
          "base_uri": "https://localhost:8080/"
        },
        "id": "rN50E2w3GctL",
        "outputId": "f3c42493-2b65-4671-f94c-988bf65fbc38"
      },
      "execution_count": null,
      "outputs": [
        {
          "output_type": "stream",
          "name": "stdout",
          "text": [
            "\n",
            "Task 2a: Descriptive statistics for 'medv' column\n",
            "+------------------+-----------------+--------+--------+\n",
            "|         mean_medv|     std_dev_medv|min_medv|max_medv|\n",
            "+------------------+-----------------+--------+--------+\n",
            "|22.532806324110698|9.197104087379815|     5.0|    50.0|\n",
            "+------------------+-----------------+--------+--------+\n",
            "\n"
          ]
        }
      ]
    },
    {
      "cell_type": "code",
      "source": [
        "avg_rm = spark.sql(f\"SELECT AVG(rm) AS avg_rm FROM {database_name}.{table_name}\").collect()[0][\"avg_rm\"]\n",
        "print(\"\\nTask 2b: Mean of 'rm' column\")\n",
        "print(avg_rm)"
      ],
      "metadata": {
        "colab": {
          "base_uri": "https://localhost:8080/"
        },
        "id": "jzrZ4G7uGhcy",
        "outputId": "5177aa34-b27f-4afe-cacd-b996c2aaaefd"
      },
      "execution_count": null,
      "outputs": [
        {
          "output_type": "stream",
          "name": "stdout",
          "text": [
            "\n",
            "Task 2b: Mean of 'rm' column\n",
            "6.284634387351787\n"
          ]
        }
      ]
    },
    {
      "cell_type": "code",
      "source": [
        "df_task3a = spark.sql(f\"\"\"\n",
        "    SELECT *\n",
        "    FROM {database_name}.{table_name}\n",
        "    WHERE crim = (SELECT MAX(crim) FROM {database_name}.{table_name})\n",
        "\"\"\")\n",
        "print(\"Task 3a: Property with the highest crime rate\")\n",
        "df_task3a.show()"
      ],
      "metadata": {
        "colab": {
          "base_uri": "https://localhost:8080/"
        },
        "id": "81iyTp0KHcze",
        "outputId": "5e7e485e-b261-4a41-b62d-8ca43963ae38"
      },
      "execution_count": null,
      "outputs": [
        {
          "output_type": "stream",
          "name": "stdout",
          "text": [
            "Task 3a: Property with the highest crime rate\n",
            "+-------+---+-----+----+-----+-----+----+------+---+---+-------+-----+-----+----+\n",
            "|   crim| zn|indus|chas|  nox|   rm| age|   dis|rad|tax|ptratio|    b|lstat|medv|\n",
            "+-------+---+-----+----+-----+-----+----+------+---+---+-------+-----+-----+----+\n",
            "|88.9762|0.0| 18.1|   0|0.671|6.968|91.9|1.4165| 24|666|   20.2|396.9|17.21|10.4|\n",
            "+-------+---+-----+----+-----+-----+----+------+---+---+-------+-----+-----+----+\n",
            "\n"
          ]
        }
      ]
    },
    {
      "cell_type": "code",
      "source": [
        "df_task3b = spark.sql(f\"\"\"\n",
        "    SELECT *\n",
        "    FROM {database_name}.{table_name}\n",
        "    WHERE medv = (SELECT MIN(medv) FROM {database_name}.{table_name})\n",
        "\"\"\")\n",
        "print(\"Task 3b: Property with the lowest median home value\")\n",
        "df_task3b.show()"
      ],
      "metadata": {
        "colab": {
          "base_uri": "https://localhost:8080/"
        },
        "id": "_BuOZFQjHtaR",
        "outputId": "8eb94acc-7dd5-4e63-ae91-374e3b4cb61e"
      },
      "execution_count": null,
      "outputs": [
        {
          "output_type": "stream",
          "name": "stdout",
          "text": [
            "Task 3b: Property with the lowest median home value\n",
            "+-------+---+-----+----+-----+-----+-----+------+---+---+-------+------+-----+----+\n",
            "|   crim| zn|indus|chas|  nox|   rm|  age|   dis|rad|tax|ptratio|     b|lstat|medv|\n",
            "+-------+---+-----+----+-----+-----+-----+------+---+---+-------+------+-----+----+\n",
            "|38.3518|0.0| 18.1|   0|0.693|5.453|100.0|1.4896| 24|666|   20.2| 396.9|30.59| 5.0|\n",
            "|67.9208|0.0| 18.1|   0|0.693|5.683|100.0|1.4254| 24|666|   20.2|384.97|22.98| 5.0|\n",
            "+-------+---+-----+----+-----+-----+-----+------+---+---+-------+------+-----+----+\n",
            "\n"
          ]
        }
      ]
    },
    {
      "cell_type": "code",
      "source": [
        "import matplotlib.pyplot as plt"
      ],
      "metadata": {
        "id": "zVxrNRF8HxmL"
      },
      "execution_count": null,
      "outputs": []
    },
    {
      "cell_type": "code",
      "source": [
        "df_age_histogram = spark.sql(f\"\"\"\n",
        "    SELECT age\n",
        "    FROM {database_name}.{table_name}\n",
        "\"\"\")\n",
        "age_data = df_age_histogram.toPandas()\n",
        "\n",
        "plt.figure(figsize=(10, 6))\n",
        "plt.hist(age_data['age'], bins=20, edgecolor='black')\n",
        "plt.title('Histogram of Age')\n",
        "plt.xlabel('Age')\n",
        "plt.ylabel('Frequency')\n",
        "plt.grid(True)\n",
        "plt.show()"
      ],
      "metadata": {
        "colab": {
          "base_uri": "https://localhost:8080/",
          "height": 564
        },
        "id": "JXt1EQkTH1-T",
        "outputId": "a24a6c1b-7260-4154-b564-3a5a31db9d92"
      },
      "execution_count": null,
      "outputs": [
        {
          "output_type": "display_data",
          "data": {
            "text/plain": [
              "<Figure size 1000x600 with 1 Axes>"
            ],
            "image/png": "[encoded data removed]"
          },
          "metadata": {}
        }
      ]
    },
    {
      "cell_type": "code",
      "source": [
        "num_chas_1 = spark.sql(f\"\"\"\n",
        "    SELECT COUNT(*) AS num_chas_1\n",
        "    FROM {database_name}.{table_name}\n",
        "    WHERE chas = 1\n",
        "\"\"\").collect()[0][\"num_chas_1\"]\n",
        "\n",
        "total_properties = total_records\n",
        "percentage_chas_1 = (num_chas_1 / total_properties) * 100\n",
        "print(f\"Task 4b: Percentage of properties with 'chas' value of 1: {percentage_chas_1:.2f}%\")"
      ],
      "metadata": {
        "colab": {
          "base_uri": "https://localhost:8080/"
        },
        "id": "f26HpjodH_IQ",
        "outputId": "54dd949d-edc0-44ba-d34b-b8f00fc5716c"
      },
      "execution_count": null,
      "outputs": [
        {
          "output_type": "stream",
          "name": "stdout",
          "text": [
            "Task 4b: Percentage of properties with 'chas' value of 1: 6.92%\n"
          ]
        }
      ]
    },
    {
      "cell_type": "code",
      "source": [
        "correlation_rm_medv = df.stat.corr(\"rm\", \"medv\")\n",
        "print(f\"Task 5a: Correlation coefficient between 'rm' and 'medv': {correlation_rm_medv:.2f}\")\n",
        "\n",
        "print(\"The correlation coefficient suggests a moderately strong positive relationship between the average number of rooms (rm) and median home value (medv). As the number of rooms increases, the median home value tends to increase as well.\")"
      ],
      "metadata": {
        "colab": {
          "base_uri": "https://localhost:8080/"
        },
        "id": "g-zslYceICqD",
        "outputId": "78a90f71-c831-41bb-bcf5-9279255ca596"
      },
      "execution_count": null,
      "outputs": [
        {
          "output_type": "stream",
          "name": "stdout",
          "text": [
            "Task 5a: Correlation coefficient between 'rm' and 'medv': 0.70\n",
            "The correlation coefficient suggests a moderately strong positive relationship between the average number of rooms (rm) and median home value (medv). As the number of rooms increases, the median home value tends to increase as well.\n"
          ]
        }
      ]
    },
    {
      "cell_type": "code",
      "source": [
        "correlation_ptratio_nox = df.stat.corr(\"ptratio\", \"nox\")\n",
        "print(f\"Task 5b: Correlation coefficient between 'ptratio' and 'nox': {correlation_ptratio_nox:.2f}\")\n",
        "\n",
        "if correlation_ptratio_nox > 0:\n",
        "    print(\"There is a positive correlation between pupil-teacher ratio (ptratio) and nitrogen oxide concentration (nox). Higher pupil-teacher ratios tend to be associated with higher nitrogen oxide concentrations.\")\n",
        "elif correlation_ptratio_nox < 0:\n",
        "    print(\"There is a negative correlation between pupil-teacher ratio (ptratio) and nitrogen oxide concentration (nox). Higher pupil-teacher ratios tend to be associated with lower nitrogen oxide concentrations.\")\n",
        "else:\n",
        "    print(\"There is no significant correlation between pupil-teacher ratio (ptratio) and nitrogen oxide concentration (nox).\")"
      ],
      "metadata": {
        "colab": {
          "base_uri": "https://localhost:8080/"
        },
        "id": "H1v546EqIQfL",
        "outputId": "642f9064-081c-486c-a41d-de4da5a66f3e"
      },
      "execution_count": null,
      "outputs": [
        {
          "output_type": "stream",
          "name": "stdout",
          "text": [
            "Task 5b: Correlation coefficient between 'ptratio' and 'nox': 0.19\n",
            "There is a positive correlation between pupil-teacher ratio (ptratio) and nitrogen oxide concentration (nox). Higher pupil-teacher ratios tend to be associated with higher nitrogen oxide concentrations.\n"
          ]
        }
      ]
    },
    {
      "cell_type": "code",
      "source": [
        "top_neighborhoods = spark.sql(f\"\"\"\n",
        "    SELECT b AS neighborhood, AVG(medv) AS avg_medv\n",
        "    FROM {database_name}.{table_name}\n",
        "    GROUP BY b\n",
        "    ORDER BY avg_medv DESC\n",
        "    LIMIT 5\n",
        "\"\"\")\n",
        "print(\"Task 6a: Top 5 neighborhoods with highest median home values\")\n",
        "top_neighborhoods.show()\n"
      ],
      "metadata": {
        "colab": {
          "base_uri": "https://localhost:8080/"
        },
        "id": "B-lF6a_TJDLD",
        "outputId": "28cbd0bb-9da4-448a-d944-9234f629e0a9"
      },
      "execution_count": null,
      "outputs": [
        {
          "output_type": "stream",
          "name": "stdout",
          "text": [
            "Task 6a: Top 5 neighborhoods with highest median home values\n",
            "+------------+--------+\n",
            "|neighborhood|avg_medv|\n",
            "+------------+--------+\n",
            "|      374.43|    50.0|\n",
            "|      390.55|    50.0|\n",
            "|      375.52|    50.0|\n",
            "|      392.05|    50.0|\n",
            "|      347.88|    50.0|\n",
            "+------------+--------+\n",
            "\n"
          ]
        }
      ]
    },
    {
      "cell_type": "code",
      "source": [
        "avg_age_chas_1 = spark.sql(f\"\"\"\n",
        "    SELECT AVG(age) AS avg_age_chas_1\n",
        "    FROM {database_name}.{table_name}\n",
        "    WHERE chas = 1\n",
        "\"\"\").collect()[0][\"avg_age_chas_1\"]\n",
        "\n",
        "avg_age_chas_0 = spark.sql(f\"\"\"\n",
        "    SELECT AVG(age) AS avg_age_chas_0\n",
        "    FROM {database_name}.{table_name}\n",
        "    WHERE chas = 0\n",
        "\"\"\").collect()[0][\"avg_age_chas_0\"]\n",
        "\n",
        "print(f\"Task 6b: Average property age for neighborhoods with 'chas' value of 1: {avg_age_chas_1:.2f}\")\n",
        "print(f\"       Average property age for neighborhoods with 'chas' value of 0: {avg_age_chas_0:.2f}\")"
      ],
      "metadata": {
        "colab": {
          "base_uri": "https://localhost:8080/"
        },
        "id": "NVZl9cehJM_J",
        "outputId": "67ab1a1a-06e9-4438-c546-a796040d5198"
      },
      "execution_count": null,
      "outputs": [
        {
          "output_type": "stream",
          "name": "stdout",
          "text": [
            "Task 6b: Average property age for neighborhoods with 'chas' value of 1: 77.50\n",
            "       Average property age for neighborhoods with 'chas' value of 0: 67.91\n"
          ]
        }
      ]
    },
    {
      "cell_type": "code",
      "source": [
        "spark.sql(f\"\"\"\n",
        "    CREATE OR REPLACE VIEW property_age_view AS\n",
        "    SELECT age, medv\n",
        "    FROM {database_name}.{table_name}\n",
        "\"\"\")\n",
        "print(\"Task 7a: Hive view 'property_age_view' created successfully\")"
      ],
      "metadata": {
        "colab": {
          "base_uri": "https://localhost:8080/"
        },
        "id": "-4VGphOZJPdg",
        "outputId": "df08b2ff-a70d-40d1-f6b6-71e9dfca6ed0"
      },
      "execution_count": null,
      "outputs": [
        {
          "output_type": "stream",
          "name": "stdout",
          "text": [
            "Task 7a: Hive view 'property_age_view' created successfully\n"
          ]
        }
      ]
    },
    {
      "cell_type": "code",
      "source": [
        "age_medv_data = spark.sql(f\"SELECT age, medv FROM {database_name}.{table_name}\").toPandas()\n",
        "\n",
        "plt.figure(figsize=(10, 6))\n",
        "plt.scatter(age_medv_data['age'], age_medv_data['medv'], alpha=0.5)\n",
        "plt.title('Scatter Plot of Property Age vs. Median Home Value')\n",
        "plt.xlabel('Age')\n",
        "plt.ylabel('Median Home Value')\n",
        "plt.grid(True)\n",
        "plt.show()"
      ],
      "metadata": {
        "colab": {
          "base_uri": "https://localhost:8080/",
          "height": 564
        },
        "id": "7nsstnsxJTNt",
        "outputId": "c8ae9038-4105-44ee-847f-0f3b42931427"
      },
      "execution_count": null,
      "outputs": [
        {
          "output_type": "display_data",
          "data": {
            "text/plain": [
              "<Figure size 1000x600 with 1 Axes>"
            ],
            "image/png": "[encoded data removed]"
          },
          "metadata": {}
        }
      ]
    },
    {
      "cell_type": "code",
      "source": [
        "df_outliers_crim = spark.sql(f\"\"\"\n",
        "    SELECT *\n",
        "    FROM {database_name}.{table_name}\n",
        "    WHERE crim > 10\n",
        "\"\"\")\n",
        "print(\"Task 8a: Properties with 'crim' value greater than 10\")\n",
        "df_outliers_crim.show()"
      ],
      "metadata": {
        "colab": {
          "base_uri": "https://localhost:8080/"
        },
        "id": "nGIyAAd8JZM4",
        "outputId": "294a0607-f8de-40b0-d960-3c21487a4dff"
      },
      "execution_count": null,
      "outputs": [
        {
          "output_type": "stream",
          "name": "stdout",
          "text": [
            "Task 8a: Properties with 'crim' value greater than 10\n",
            "+-------+---+-----+----+-----+-----+-----+------+---+---+-------+------+-----+----+\n",
            "|   crim| zn|indus|chas|  nox|   rm|  age|   dis|rad|tax|ptratio|     b|lstat|medv|\n",
            "+-------+---+-----+----+-----+-----+-----+------+---+---+-------+------+-----+----+\n",
            "|13.5222|0.0| 18.1|   0|0.631|3.863|100.0|1.5106| 24|666|   20.2|131.42|13.33|23.1|\n",
            "|11.1081|0.0| 18.1|   0|0.668|4.906|100.0|1.1742| 24|666|   20.2| 396.9|34.77|13.8|\n",
            "|18.4982|0.0| 18.1|   0|0.668|4.138|100.0| 1.137| 24|666|   20.2| 396.9|37.97|13.8|\n",
            "|19.6091|0.0| 18.1|   0|0.671|7.313| 97.9|1.3163| 24|666|   20.2| 396.9|13.44|15.0|\n",
            "| 15.288|0.0| 18.1|   0|0.671|6.649| 93.3|1.3449| 24|666|   20.2|363.02|23.24|13.9|\n",
            "|23.6482|0.0| 18.1|   0|0.671| 6.38| 96.2|1.3861| 24|666|   20.2| 396.9|23.69|13.1|\n",
            "|17.8667|0.0| 18.1|   0|0.671|6.223|100.0|1.3861| 24|666|   20.2|393.74|21.78|10.2|\n",
            "|88.9762|0.0| 18.1|   0|0.671|6.968| 91.9|1.4165| 24|666|   20.2| 396.9|17.21|10.4|\n",
            "|15.8744|0.0| 18.1|   0|0.671|6.545| 99.1|1.5192| 24|666|   20.2| 396.9|21.08|10.9|\n",
            "|20.0849|0.0| 18.1|   0|  0.7|4.368| 91.2|1.4395| 24|666|   20.2|285.83|30.63| 8.8|\n",
            "|16.8118|0.0| 18.1|   0|  0.7|5.277| 98.1|1.4261| 24|666|   20.2| 396.9|30.81| 7.2|\n",
            "|24.3938|0.0| 18.1|   0|  0.7|4.652|100.0|1.4672| 24|666|   20.2| 396.9|28.28|10.5|\n",
            "|22.5971|0.0| 18.1|   0|  0.7|  5.0| 89.5|1.5184| 24|666|   20.2| 396.9|31.99| 7.4|\n",
            "|14.3337|0.0| 18.1|   0|  0.7| 4.88|100.0|1.5895| 24|666|   20.2|372.92|30.62|10.2|\n",
            "|11.5779|0.0| 18.1|   0|  0.7|5.036| 97.0|  1.77| 24|666|   20.2| 396.9|25.68| 9.7|\n",
            "|13.3598|0.0| 18.1|   0|0.693|5.887| 94.7|1.7821| 24|666|   20.2| 396.9|16.35|12.7|\n",
            "|38.3518|0.0| 18.1|   0|0.693|5.453|100.0|1.4896| 24|666|   20.2| 396.9|30.59| 5.0|\n",
            "|25.0461|0.0| 18.1|   0|0.693|5.987|100.0|1.5888| 24|666|   20.2| 396.9|26.77| 5.6|\n",
            "|14.2362|0.0| 18.1|   0|0.693|6.343|100.0|1.5741| 24|666|   20.2| 396.9|20.32| 7.2|\n",
            "|24.8017|0.0| 18.1|   0|0.693|5.349| 96.0|1.7028| 24|666|   20.2| 396.9|19.77| 8.3|\n",
            "+-------+---+-----+----+-----+-----+-----+------+---+---+-------+------+-----+----+\n",
            "only showing top 20 rows\n",
            "\n"
          ]
        }
      ]
    },
    {
      "cell_type": "code",
      "source": [
        "print(\"Task 8b: Significance of detecting outliers in data analysis\")\n",
        "print(\"Outliers can significantly affect statistical analyses and machine learning models. They can skew results, introduce bias, and impact model performance. Detecting and handling outliers is crucial to ensure the reliability and accuracy of data-driven insights and predictions.\")"
      ],
      "metadata": {
        "colab": {
          "base_uri": "https://localhost:8080/"
        },
        "id": "gq5YhCSPJs1u",
        "outputId": "dfe64e6e-2190-474f-8453-8a7bfa5d187c"
      },
      "execution_count": null,
      "outputs": [
        {
          "output_type": "stream",
          "name": "stdout",
          "text": [
            "Task 8b: Significance of detecting outliers in data analysis\n",
            "Outliers can significantly affect statistical analyses and machine learning models. They can skew results, introduce bias, and impact model performance. Detecting and handling outliers is crucial to ensure the reliability and accuracy of data-driven insights and predictions.\n"
          ]
        }
      ]
    },
    {
      "cell_type": "code",
      "source": [
        "from pyspark.ml.stat import Correlation\n",
        "from pyspark.ml.feature import VectorAssembler\n",
        "\n",
        "vector_assembler = VectorAssembler(inputCols=[\"rm\"], outputCol=\"features\")\n",
        "df_vector = vector_assembler.transform(df)\n",
        "\n",
        "pearson_corr = Correlation.corr(df_vector, \"features\").head()[0].toArray()[0, 0]\n",
        "print(f\"Task 9a: Pearson correlation coefficient between 'rm' and 'medv': {pearson_corr:.2f}\")"
      ],
      "metadata": {
        "colab": {
          "base_uri": "https://localhost:8080/"
        },
        "id": "v6PbA3u5LltR",
        "outputId": "e5274ec4-efee-4f07-da1b-e3f9d249a14f"
      },
      "execution_count": null,
      "outputs": [
        {
          "output_type": "stream",
          "name": "stdout",
          "text": [
            "Task 9a: Pearson correlation coefficient between 'rm' and 'medv': 1.00\n"
          ]
        }
      ]
    },
    {
      "cell_type": "code",
      "source": [
        "from pyspark.sql import functions as F\n",
        "\n",
        "summary_rm = df.select(F.mean(df[\"rm\"]).alias(\"mean_rm\"), F.stddev(df[\"rm\"]).alias(\"stddev_rm\")).collect()[0]\n",
        "mean_rm = summary_rm[\"mean_rm\"]\n",
        "stddev_rm = summary_rm[\"stddev_rm\"]\n",
        "\n",
        "summary_medv = df.select(F.mean(df[\"medv\"]).alias(\"mean_medv\"), F.stddev(df[\"medv\"]).alias(\"stddev_medv\")).collect()[0]\n",
        "mean_medv = summary_medv[\"mean_medv\"]\n",
        "stddev_medv = summary_medv[\"stddev_medv\"]\n",
        "\n",
        "print(f\"Task 9b: Statistics for rm and medv\")\n",
        "print(f\"    Mean of rm: {mean_rm:.2f}\")\n",
        "print(f\"    Mean of medv: {mean_medv:.2f}\")\n",
        "print(f\"    Standard deviation of rm: {stddev_rm:.2f}\")\n",
        "print(f\"    Standard deviation of medv: {stddev_medv:.2f}\")\n"
      ],
      "metadata": {
        "colab": {
          "base_uri": "https://localhost:8080/"
        },
        "id": "7o6kQjCrMT6w",
        "outputId": "65f88989-ffb5-4a0d-ae1d-7521651c9c0d"
      },
      "execution_count": null,
      "outputs": [
        {
          "output_type": "stream",
          "name": "stdout",
          "text": [
            "Task 9b: Statistics for rm and medv\n",
            "    Mean of rm: 6.28\n",
            "    Mean of medv: 22.53\n",
            "    Standard deviation of rm: 0.70\n",
            "    Standard deviation of medv: 9.20\n"
          ]
        }
      ]
    }
  ]
}